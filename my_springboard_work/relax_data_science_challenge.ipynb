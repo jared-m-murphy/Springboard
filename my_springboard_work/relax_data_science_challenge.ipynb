{
 "cells": [
  {
   "cell_type": "markdown",
   "metadata": {},
   "source": [
    "## Relax Data Science Challenge"
   ]
  },
  {
   "cell_type": "markdown",
   "metadata": {},
   "source": [
    "### Cleaning and EDA "
   ]
  },
  {
   "cell_type": "code",
   "execution_count": null,
   "metadata": {},
   "outputs": [],
   "source": [
    "import pandas as pd\n",
    "import matplotlib.pyplot as plt\n",
    "import seaborn as sns\n",
    "import numpy as np"
   ]
  },
  {
   "cell_type": "code",
   "execution_count": 49,
   "metadata": {},
   "outputs": [],
   "source": [
    "df1=pd.read_csv('takehome_users.csv', engine='python')"
   ]
  },
  {
   "cell_type": "code",
   "execution_count": 50,
   "metadata": {},
   "outputs": [],
   "source": [
    "df1.columns=['user_id', 'creation_time', 'name', 'email', 'creation_source',\n",
    "       'last_session_creation_time', 'opted_in_to_mailing_list',\n",
    "       'enabled_for_marketing_drip', 'org_id', 'invited_by_user_id']"
   ]
  },
  {
   "cell_type": "code",
   "execution_count": 51,
   "metadata": {},
   "outputs": [],
   "source": [
    "#I think lets drop the name and email and invited_by_user_id because it complicates things unnecissarily\n",
    "df1=df1.drop(columns=['name','email','invited_by_user_id'])\n",
    "#what can we do with nan in last_session_creation_time other than drop nulls?\n",
    "df1=df1.dropna()\n",
    "#reset index to object id\n",
    "df1=df1.set_index('user_id')"
   ]
  },
  {
   "cell_type": "markdown",
   "metadata": {},
   "source": [
    "and now the long drawn out round about way to figure out whether someone is an adopted user or not.  Im sure there is a more concise way, but I am still learning."
   ]
  },
  {
   "cell_type": "code",
   "execution_count": 52,
   "metadata": {},
   "outputs": [],
   "source": [
    "df2=pd.read_csv('takehome_user_engagement.csv',engine='python')"
   ]
  },
  {
   "cell_type": "code",
   "execution_count": 53,
   "metadata": {},
   "outputs": [],
   "source": [
    "test=df2.set_index(['user_id','time_stamp'])"
   ]
  },
  {
   "cell_type": "code",
   "execution_count": 54,
   "metadata": {},
   "outputs": [],
   "source": [
    "user_list_possible=[]\n",
    "user_list_negative=[]\n",
    "for user in df2.user_id.unique():\n",
    "    if len(test.loc[user]) >= 3: \n",
    "        user_list_possible.append(user)\n",
    "    else:\n",
    "        user_list_negative.append(user)"
   ]
  },
  {
   "cell_type": "code",
   "execution_count": 55,
   "metadata": {},
   "outputs": [],
   "source": [
    "negative_df_list=[]\n",
    "for user in user_list_negative:\n",
    "    x=test.loc[user]\n",
    "    x['adopted_user']=False\n",
    "    x['user_id2']=user\n",
    "    negative_df_list.append(x)"
   ]
  },
  {
   "cell_type": "code",
   "execution_count": 56,
   "metadata": {},
   "outputs": [],
   "source": [
    "positive_df_list=[]\n",
    "for user in user_list_possible:\n",
    "    x=test.loc[user].reset_index()\n",
    "    x.time_stamp=pd.to_datetime(x.time_stamp)\n",
    "    x['days']=(x.time_stamp.diff())/np.timedelta64(1,'D')\n",
    "    x=x.loc[x['days']>=1].set_index('time_stamp').resample('W').sum()\n",
    "    x=x[['days']]\n",
    "    if len(x.loc[x.days>=3])>=1:\n",
    "        x['adopted_user']=True\n",
    "        x['user_id2']=user\n",
    "        positive_df_list.append(x)\n",
    "    else:\n",
    "        x['adopted_user']=False\n",
    "        x['user_id2']=user\n",
    "        negative_df_list.append(x)\n",
    "positive_df_list_again=[]\n",
    "for df in positive_df_list:\n",
    "    x=df.iloc[[0]]\n",
    "    positive_df_list_again.append(x)"
   ]
  },
  {
   "cell_type": "code",
   "execution_count": 57,
   "metadata": {},
   "outputs": [],
   "source": [
    "x=pd.concat(positive_df_list_again)\n",
    "y=pd.concat(negative_df_list)\n",
    "df2=pd.concat([x,y])"
   ]
  },
  {
   "cell_type": "code",
   "execution_count": 58,
   "metadata": {},
   "outputs": [
    {
     "data": {
      "text/html": [
       "<div>\n",
       "<style scoped>\n",
       "    .dataframe tbody tr th:only-of-type {\n",
       "        vertical-align: middle;\n",
       "    }\n",
       "\n",
       "    .dataframe tbody tr th {\n",
       "        vertical-align: top;\n",
       "    }\n",
       "\n",
       "    .dataframe thead th {\n",
       "        text-align: right;\n",
       "    }\n",
       "</style>\n",
       "<table border=\"1\" class=\"dataframe\">\n",
       "  <thead>\n",
       "    <tr style=\"text-align: right;\">\n",
       "      <th></th>\n",
       "      <th>adopted</th>\n",
       "    </tr>\n",
       "    <tr>\n",
       "      <th>user_id2</th>\n",
       "      <th></th>\n",
       "    </tr>\n",
       "  </thead>\n",
       "  <tbody>\n",
       "    <tr>\n",
       "      <th>1</th>\n",
       "      <td>False</td>\n",
       "    </tr>\n",
       "    <tr>\n",
       "      <th>2</th>\n",
       "      <td>True</td>\n",
       "    </tr>\n",
       "    <tr>\n",
       "      <th>3</th>\n",
       "      <td>False</td>\n",
       "    </tr>\n",
       "    <tr>\n",
       "      <th>4</th>\n",
       "      <td>False</td>\n",
       "    </tr>\n",
       "    <tr>\n",
       "      <th>5</th>\n",
       "      <td>False</td>\n",
       "    </tr>\n",
       "    <tr>\n",
       "      <th>...</th>\n",
       "      <td>...</td>\n",
       "    </tr>\n",
       "    <tr>\n",
       "      <th>11996</th>\n",
       "      <td>False</td>\n",
       "    </tr>\n",
       "    <tr>\n",
       "      <th>11997</th>\n",
       "      <td>False</td>\n",
       "    </tr>\n",
       "    <tr>\n",
       "      <th>11998</th>\n",
       "      <td>False</td>\n",
       "    </tr>\n",
       "    <tr>\n",
       "      <th>11999</th>\n",
       "      <td>False</td>\n",
       "    </tr>\n",
       "    <tr>\n",
       "      <th>12000</th>\n",
       "      <td>False</td>\n",
       "    </tr>\n",
       "  </tbody>\n",
       "</table>\n",
       "<p>8823 rows × 1 columns</p>\n",
       "</div>"
      ],
      "text/plain": [
       "          adopted\n",
       "user_id2         \n",
       "1           False\n",
       "2            True\n",
       "3           False\n",
       "4           False\n",
       "5           False\n",
       "...           ...\n",
       "11996       False\n",
       "11997       False\n",
       "11998       False\n",
       "11999       False\n",
       "12000       False\n",
       "\n",
       "[8823 rows x 1 columns]"
      ]
     },
     "execution_count": 58,
     "metadata": {},
     "output_type": "execute_result"
    }
   ],
   "source": [
    "df2=df2.groupby('user_id2').sum()\n",
    "df2['adopted']=df2['adopted_user']>0\n",
    "df2=df2[['adopted']]\n",
    "df2"
   ]
  },
  {
   "cell_type": "code",
   "execution_count": 59,
   "metadata": {},
   "outputs": [],
   "source": [
    "df=df1.join(df2,how='inner')"
   ]
  },
  {
   "cell_type": "code",
   "execution_count": 60,
   "metadata": {},
   "outputs": [
    {
     "name": "stdout",
     "output_type": "stream",
     "text": [
      "<class 'pandas.core.frame.DataFrame'>\n",
      "Int64Index: 8823 entries, 1 to 12000\n",
      "Data columns (total 7 columns):\n",
      " #   Column                      Non-Null Count  Dtype  \n",
      "---  ------                      --------------  -----  \n",
      " 0   creation_time               8823 non-null   object \n",
      " 1   creation_source             8823 non-null   object \n",
      " 2   last_session_creation_time  8823 non-null   float64\n",
      " 3   opted_in_to_mailing_list    8823 non-null   int64  \n",
      " 4   enabled_for_marketing_drip  8823 non-null   int64  \n",
      " 5   org_id                      8823 non-null   int64  \n",
      " 6   adopted                     8823 non-null   bool   \n",
      "dtypes: bool(1), float64(1), int64(3), object(2)\n",
      "memory usage: 811.1+ KB\n"
     ]
    }
   ],
   "source": [
    "df.info()"
   ]
  },
  {
   "cell_type": "code",
   "execution_count": 61,
   "metadata": {},
   "outputs": [],
   "source": [
    "#lets change the last_session_creation_time to regular datetime\n",
    "from datetime import datetime\n",
    "test=df['last_session_creation_time'].apply(lambda x : datetime.utcfromtimestamp(int(x)).strftime('%Y-%m-%d %H:%M:%S'))\n",
    "df['last_session_creation_time']=test\n",
    "df['last_session_creation_time']=pd.to_datetime(df['last_session_creation_time'])\n",
    "df['creation_time']=pd.to_datetime(df['creation_time'])"
   ]
  },
  {
   "cell_type": "code",
   "execution_count": 62,
   "metadata": {},
   "outputs": [],
   "source": [
    "#and create a new variable called time_as_user which measures the time in days between account creation time\n",
    "#and the last session creation time\n",
    "df['time_as_user']=(df['last_session_creation_time']-df['creation_time'])/np.timedelta64(1,'D')\n",
    "df=df.reset_index()\n",
    "df=df.drop(columns=['last_session_creation_time','creation_time','user_id'])"
   ]
  },
  {
   "cell_type": "code",
   "execution_count": 64,
   "metadata": {},
   "outputs": [],
   "source": [
    "df=pd.get_dummies(df)"
   ]
  },
  {
   "cell_type": "code",
   "execution_count": 66,
   "metadata": {},
   "outputs": [
    {
     "data": {
      "text/plain": [
       "Index(['opted_in_to_mailing_list', 'enabled_for_marketing_drip', 'org_id',\n",
       "       'adopted', 'time_as_user', 'creation_source_GUEST_INVITE',\n",
       "       'creation_source_ORG_INVITE', 'creation_source_PERSONAL_PROJECTS',\n",
       "       'creation_source_SIGNUP', 'creation_source_SIGNUP_GOOGLE_AUTH'],\n",
       "      dtype='object')"
      ]
     },
     "execution_count": 66,
     "metadata": {},
     "output_type": "execute_result"
    }
   ],
   "source": [
    "df.columns"
   ]
  },
  {
   "cell_type": "markdown",
   "metadata": {},
   "source": [
    "## Modeling"
   ]
  },
  {
   "cell_type": "code",
   "execution_count": 70,
   "metadata": {},
   "outputs": [],
   "source": [
    "from sklearn.model_selection import train_test_split\n",
    "X=df.drop(columns='adopted')\n",
    "y=df['adopted']\n",
    "X_train,X_test,y_train,y_test=train_test_split(X,y,test_size=.8,random_state=42)"
   ]
  },
  {
   "cell_type": "code",
   "execution_count": 72,
   "metadata": {},
   "outputs": [
    {
     "data": {
      "text/plain": [
       "0.969542428105964"
      ]
     },
     "execution_count": 72,
     "metadata": {},
     "output_type": "execute_result"
    }
   ],
   "source": [
    "from sklearn.ensemble import RandomForestClassifier\n",
    "clf=RandomForestClassifier(criterion='gini')\n",
    "clf.fit(X_train,y_train)\n",
    "clf.score(X_test,y_test)"
   ]
  },
  {
   "cell_type": "code",
   "execution_count": 73,
   "metadata": {},
   "outputs": [
    {
     "data": {
      "text/plain": [
       "0.969825754356141"
      ]
     },
     "execution_count": 73,
     "metadata": {},
     "output_type": "execute_result"
    }
   ],
   "source": [
    "clf=RandomForestClassifier(criterion='entropy')\n",
    "clf.fit(X_train,y_train)\n",
    "clf.score(X_test,y_test)"
   ]
  },
  {
   "cell_type": "markdown",
   "metadata": {},
   "source": [
    "Out of the box random forest works pretty good, and using the entropy criterion works best.  Im sure there is a better model to be used, but I have already spent 2.5 hours on this and I must move on.  With this Random Forest model I can predict whether the customer is an adopted user with roughly 97% accuracy.     "
   ]
  },
  {
   "cell_type": "code",
   "execution_count": null,
   "metadata": {},
   "outputs": [],
   "source": []
  }
 ],
 "metadata": {
  "kernelspec": {
   "display_name": "Python 3",
   "language": "python",
   "name": "python3"
  },
  "language_info": {
   "codemirror_mode": {
    "name": "ipython",
    "version": 3
   },
   "file_extension": ".py",
   "mimetype": "text/x-python",
   "name": "python",
   "nbconvert_exporter": "python",
   "pygments_lexer": "ipython3",
   "version": "3.7.6"
  }
 },
 "nbformat": 4,
 "nbformat_minor": 4
}
